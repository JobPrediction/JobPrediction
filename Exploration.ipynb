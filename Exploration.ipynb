{
 "cells": [
  {
   "cell_type": "markdown",
   "id": "85647f5e",
   "metadata": {},
   "source": [
    "# import libraries"
   ]
  },
  {
   "cell_type": "code",
   "execution_count": 17,
   "id": "1f4d32bd",
   "metadata": {},
   "outputs": [],
   "source": [
    "import pandas as pd\n",
    "import numpy as np\n",
    "import matplotlib.pyplot as plt\n",
    "\n",
    "import pickle\n",
    "\n",
    "ExportPath=\"E:\\ITIAI2021\\ML1\\datascience\\stack-overflow-developer-survey-2021\\prep2.pkl\""
   ]
  },
  {
   "cell_type": "code",
   "execution_count": 18,
   "id": "cab81726",
   "metadata": {},
   "outputs": [],
   "source": [
    "path=\"E:\\ITIAI2021\\ML1\\datascience\\stack-overflow-developer-survey-2021\\survey_results_public.csv\"\n",
    "data=pd.read_csv(path)\n",
    "#data.head()\n"
   ]
  },
  {
   "cell_type": "code",
   "execution_count": null,
   "id": "223720a5",
   "metadata": {},
   "outputs": [],
   "source": []
  },
  {
   "cell_type": "markdown",
   "id": "af70d779",
   "metadata": {
    "scrolled": true
   },
   "source": [
    "data.info()"
   ]
  },
  {
   "cell_type": "code",
   "execution_count": 19,
   "id": "b03f48a8",
   "metadata": {},
   "outputs": [],
   "source": [
    "#data['MainBran ch'].unique()"
   ]
  },
  {
   "cell_type": "code",
   "execution_count": 20,
   "id": "f098d4bb",
   "metadata": {},
   "outputs": [],
   "source": [
    "#data['Employment'].value_counts() "
   ]
  },
  {
   "cell_type": "code",
   "execution_count": 21,
   "id": "599edf91",
   "metadata": {},
   "outputs": [],
   "source": [
    "#data['Trans'].value_counts()\n",
    "#data['Accessibility'].value_counts() \n",
    "#data['ConvertedCompYearly'].value_counts()"
   ]
  },
  {
   "cell_type": "code",
   "execution_count": 22,
   "id": "fc24fed9",
   "metadata": {},
   "outputs": [],
   "source": [
    "data=data.drop(columns=['ResponseId','US_State','UK_Country','Gender','Employment','Trans','Ethnicity','SurveyLength','SurveyEase','Accessibility','ConvertedCompYearly','NEWOtherComms','OpSys','NEWStuck','Currency','NEWSOSites','SOVisitFreq','SOAccount','SOPartFreq','SOComm','Sexuality','MentalHealth','Country','LearnCode','CompTotal','CompFreq'])"
   ]
  },
  {
   "cell_type": "code",
   "execution_count": 45,
   "id": "23168320",
   "metadata": {},
   "outputs": [
    {
     "data": {
      "text/plain": [
       "Index(['MainBranch', 'EdLevel', 'Age1stCode', 'YearsCode', 'YearsCodePro',\n",
       "       'DevType', 'OrgSize', 'LanguageHaveWorkedWith',\n",
       "       'LanguageWantToWorkWith', 'DatabaseHaveWorkedWith',\n",
       "       'DatabaseWantToWorkWith', 'PlatformHaveWorkedWith',\n",
       "       'PlatformWantToWorkWith', 'WebframeHaveWorkedWith',\n",
       "       'WebframeWantToWorkWith', 'MiscTechHaveWorkedWith',\n",
       "       'MiscTechWantToWorkWith', 'ToolsTechHaveWorkedWith',\n",
       "       'ToolsTechWantToWorkWith', 'NEWCollabToolsHaveWorkedWith',\n",
       "       'NEWCollabToolsWantToWorkWith', 'Age'],\n",
       "      dtype='object')"
      ]
     },
     "execution_count": 45,
     "metadata": {},
     "output_type": "execute_result"
    }
   ],
   "source": [
    "data.columns"
   ]
  },
  {
   "cell_type": "code",
   "execution_count": 23,
   "id": "5ace3903",
   "metadata": {},
   "outputs": [
    {
     "name": "stdout",
     "output_type": "stream",
     "text": [
      "YearsCode [nan '7' '17' '3' '4' '6' '16' '12' '15' '10' '40' '9' '26' '14' '39' '20'\n",
      " '8' '19' '5' 'Less than 1 year' '22' '2' '1' '34' '21' '13' '25' '24'\n",
      " '30' '31' '18' '38' 'More than 50 years' '27' '41' '42' '35' '23' '28'\n",
      " '11' '37' '44' '43' '36' '33' '45' '29' '50' '46' '32' '47' '49' '48']\n",
      "--------------------\n",
      "\n",
      "YearsCodePro [nan '10' '4' '5' '6' '2' '30' '9' '18' '12' '21' '1' '16'\n",
      " 'Less than 1 year' '15' '3' '35' '7' '8' '17' '14' '26' '25' '20' '50'\n",
      " '34' '11' '24' '22' '13' '31' '23' '39' '41' '27' '28' '19' '33'\n",
      " 'More than 50 years' '37' '29' '32' '43' '40' '38' '45' '42' '46' '36'\n",
      " '44' '47' '48' '49']\n",
      "--------------------\n",
      "\n",
      "Age1stCode ['18 - 24 years' '11 - 17 years' '5 - 10 years' '25 - 34 years'\n",
      " '35 - 44 years' 'Younger than 5 years' '45 - 54 years' '55 - 64 years'\n",
      " nan 'Older than 64 years']\n",
      "--------------------\n",
      "\n"
     ]
    }
   ],
   "source": [
    "cols=['YearsCode','YearsCodePro','Age1stCode']\n",
    "\n",
    "for col in cols:\n",
    "    print(col,data[col].unique())\n",
    "    print(\"--------------------\")\n",
    "    print()"
   ]
  },
  {
   "cell_type": "code",
   "execution_count": 24,
   "id": "4610b8bc",
   "metadata": {},
   "outputs": [],
   "source": [
    "replaceCol = {\n",
    "    'YearsCodePro': {'Less than 1 year': 0, 'More than 50 years': 51}, \n",
    "    'YearsCode':    {'Less than 1 year': 0, 'More than 50 years': 51}, }\n",
    "   # 'Age1stCode':   {'Older than 64 years':64,'Younger than 5 years':4}}\n",
    "\n",
    "for col,val in replaceCol.items():\n",
    "    data[col]=data[col].replace(val).astype(np.float32)\n"
   ]
  },
  {
   "cell_type": "markdown",
   "id": "9dded06e",
   "metadata": {},
   "source": [
    "# Splitting Answers"
   ]
  },
  {
   "cell_type": "code",
   "execution_count": 35,
   "id": "05203e57",
   "metadata": {},
   "outputs": [],
   "source": [
    "def splitAnswers(col,delimiter=\";\"):\n",
    "    #check wether the string can be splitted or not\n",
    "    def is_splittable(col, delimiter):\n",
    "       \n",
    "        return col.str.contains(delimiter) #boolean\n",
    "    \n",
    "    def split_answer(pd_series, delimiter): \n",
    "       \n",
    "        return col.str.split(delimiter)\n",
    "    \n",
    "    answerSplit=is_splittable(col,delimiter)\n",
    "    if not answerSplit.any():\n",
    "        return col\n",
    "    \n",
    "    AnswerSplitted=col.str.split(delimiter)\n",
    "    null = col.isnull()\n",
    "    col.loc[null] = col.loc[null].apply(lambda x: [])\n",
    "    \n",
    "    return AnswerSplitted\n",
    "    \n",
    "    "
   ]
  },
  {
   "cell_type": "code",
   "execution_count": 44,
   "id": "8dd68c49",
   "metadata": {},
   "outputs": [],
   "source": [
    "data['DevType']=splitAnswers(data['DevType'])\n"
   ]
  },
  {
   "cell_type": "markdown",
   "id": "39388533",
   "metadata": {},
   "source": [
    "### test the previous Func on any col"
   ]
  },
  {
   "cell_type": "code",
   "execution_count": 33,
   "id": "31d9944b",
   "metadata": {},
   "outputs": [
    {
     "name": "stderr",
     "output_type": "stream",
     "text": [
      "C:\\Users\\المهندس\\AppData\\Local\\Temp\\ipykernel_3424\\610379205.py:17: SettingWithCopyWarning: \n",
      "A value is trying to be set on a copy of a slice from a DataFrame\n",
      "\n",
      "See the caveats in the documentation: https://pandas.pydata.org/pandas-docs/stable/user_guide/indexing.html#returning-a-view-versus-a-copy\n",
      "  col.loc[null] = col.loc[null].apply(lambda x: [])\n"
     ]
    }
   ],
   "source": [
    "sp=splitAnswers(data['LanguageHaveWorkedWith'])\n",
    "#sp\n"
   ]
  },
  {
   "cell_type": "code",
   "execution_count": 48,
   "id": "90c7fc33",
   "metadata": {},
   "outputs": [
    {
     "name": "stderr",
     "output_type": "stream",
     "text": [
      "C:\\Users\\المهندس\\AppData\\Local\\Temp\\ipykernel_476\\3406620962.py:17: SettingWithCopyWarning: \n",
      "A value is trying to be set on a copy of a slice from a DataFrame\n",
      "\n",
      "See the caveats in the documentation: https://pandas.pydata.org/pandas-docs/stable/user_guide/indexing.html#returning-a-view-versus-a-copy\n",
      "  col.loc[null] = col.loc[null].apply(lambda x: [])\n"
     ]
    }
   ],
   "source": [
    "cols=data.select_dtypes(include=\"object\").columns.tolist()\n",
    "for col in cols:\n",
    "    data[col]=splitAnswers(data[col])"
   ]
  },
  {
   "cell_type": "code",
   "execution_count": 49,
   "id": "29a2c788",
   "metadata": {},
   "outputs": [],
   "source": [
    "data.to_pickle(ExportPath)"
   ]
  },
  {
   "cell_type": "code",
   "execution_count": null,
   "id": "6c2b5182",
   "metadata": {},
   "outputs": [],
   "source": []
  },
  {
   "cell_type": "code",
   "execution_count": null,
   "id": "c784beca",
   "metadata": {},
   "outputs": [],
   "source": []
  },
  {
   "cell_type": "code",
   "execution_count": null,
   "id": "ab9f1362",
   "metadata": {},
   "outputs": [],
   "source": []
  },
  {
   "cell_type": "code",
   "execution_count": null,
   "id": "57801471",
   "metadata": {},
   "outputs": [],
   "source": []
  }
 ],
 "metadata": {
  "kernelspec": {
   "display_name": "Python 3 (ipykernel)",
   "language": "python",
   "name": "python3"
  },
  "language_info": {
   "codemirror_mode": {
    "name": "ipython",
    "version": 3
   },
   "file_extension": ".py",
   "mimetype": "text/x-python",
   "name": "python",
   "nbconvert_exporter": "python",
   "pygments_lexer": "ipython3",
   "version": "3.9.0"
  }
 },
 "nbformat": 4,
 "nbformat_minor": 5
}
